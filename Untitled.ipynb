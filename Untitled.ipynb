{
 "cells": [
  {
   "cell_type": "code",
   "execution_count": 7,
   "metadata": {},
   "outputs": [],
   "source": [
    "%matplotlib inline\n",
    "import os\n",
    "import pandas as pd\n",
    "import numpy as np\n",
    "import datetime\n",
    "from datetime import date\n",
    "from fbprophet import Prophet\n",
    "from matplotlib import pyplot as plt\n",
    "import matplotlib.dates as mdates\n",
    "import matplotlib.cm as cm\n",
    "from scipy.signal import savgol_filter"
   ]
  },
  {
   "cell_type": "code",
   "execution_count": 17,
   "metadata": {},
   "outputs": [],
   "source": [
    "# choose file\n",
    "filename = 'data/Daylight_saving_time.csv'"
   ]
  },
  {
   "cell_type": "code",
   "execution_count": 18,
   "metadata": {},
   "outputs": [],
   "source": [
    "\n",
    "# read in data\n",
    "filepath = os.path.join(os.path.dirname(os.path.realpath('__file__')), filename)\n",
    "df = pd.read_csv(filepath)\n",
    "\n",
    "# recode zeros as NaN\n",
    "df = df.replace('0', np.nan)\n",
    "\n",
    "# format datestamp column\n",
    "df['ds'] = pd.to_datetime(df['ds'])\n"
   ]
  },
  {
   "cell_type": "code",
   "execution_count": 21,
   "metadata": {},
   "outputs": [
    {
     "name": "stderr",
     "output_type": "stream",
     "text": [
      "/usr/local/lib/python3.7/site-packages/ipykernel_launcher.py:3: RuntimeWarning: invalid value encountered in log\n",
      "  This is separate from the ipykernel package so we can avoid doing imports until\n"
     ]
    }
   ],
   "source": [
    "# log values\n",
    "df['yOri'] = df['y']\n",
    "df['y'] = np.log(df.y)"
   ]
  },
  {
   "cell_type": "code",
   "execution_count": 37,
   "metadata": {},
   "outputs": [
    {
     "name": "stdout",
     "output_type": "stream",
     "text": [
      "0       False\n",
      "1       False\n",
      "2       False\n",
      "3       False\n",
      "4       False\n",
      "5       False\n",
      "6       False\n",
      "7       False\n",
      "8       False\n",
      "9       False\n",
      "10      False\n",
      "11      False\n",
      "12      False\n",
      "13      False\n",
      "14      False\n",
      "15      False\n",
      "16      False\n",
      "17      False\n",
      "18      False\n",
      "19      False\n",
      "20      False\n",
      "21      False\n",
      "22      False\n",
      "23      False\n",
      "24      False\n",
      "25      False\n",
      "26      False\n",
      "27      False\n",
      "28      False\n",
      "29      False\n",
      "        ...  \n",
      "2890    False\n",
      "2891    False\n",
      "2892    False\n",
      "2893    False\n",
      "2894    False\n",
      "2895    False\n",
      "2896    False\n",
      "2897    False\n",
      "2898    False\n",
      "2899    False\n",
      "2900    False\n",
      "2901    False\n",
      "2902    False\n",
      "2903    False\n",
      "2904    False\n",
      "2905    False\n",
      "2906    False\n",
      "2907    False\n",
      "2908    False\n",
      "2909    False\n",
      "2910    False\n",
      "2911    False\n",
      "2912    False\n",
      "2913    False\n",
      "2914    False\n",
      "2915    False\n",
      "2916    False\n",
      "2917    False\n",
      "2918    False\n",
      "2919    False\n",
      "Name: y, Length: 2920, dtype: bool\n"
     ]
    }
   ],
   "source": [
    "print(df['y']==0)"
   ]
  },
  {
   "cell_type": "code",
   "execution_count": 30,
   "metadata": {},
   "outputs": [
    {
     "name": "stdout",
     "output_type": "stream",
     "text": [
      "0       1.987847\n",
      "1       2.051057\n",
      "2       2.055813\n",
      "3       2.043529\n",
      "4       2.001729\n",
      "5       2.008225\n",
      "6       2.052930\n",
      "7       2.042079\n",
      "8       2.036824\n",
      "9       2.045529\n",
      "10      2.041259\n",
      "11      1.981187\n",
      "12      1.997192\n",
      "13      2.052877\n",
      "14      2.048050\n",
      "15      2.059178\n",
      "16      2.049536\n",
      "17      2.046936\n",
      "18      2.007127\n",
      "19      1.998300\n",
      "20      2.049809\n",
      "21      2.060228\n",
      "22      2.066238\n",
      "23      2.058725\n",
      "24      2.045868\n",
      "25      1.992744\n",
      "26      2.007206\n",
      "27      2.066568\n",
      "28      2.068156\n",
      "29      2.057814\n",
      "          ...   \n",
      "2890    2.009698\n",
      "2891    1.965443\n",
      "2892    2.014012\n",
      "2893    1.905121\n",
      "2894    1.908837\n",
      "2895    1.900182\n",
      "2896    1.956083\n",
      "2897    1.972260\n",
      "2898    1.971944\n",
      "2899    1.972470\n",
      "2900    1.949045\n",
      "2901    1.946866\n",
      "2902    1.944649\n",
      "2903    2.023979\n",
      "2904    2.031766\n",
      "2905    2.038943\n",
      "2906    2.042195\n",
      "2907    1.998046\n",
      "2908    1.939272\n",
      "2909    1.943459\n",
      "2910    2.025269\n",
      "2911    2.020164\n",
      "2912    2.018244\n",
      "2913    2.012441\n",
      "2914    2.003285\n",
      "2915    1.923957\n",
      "2916    1.944254\n",
      "2917    2.011912\n",
      "2918    2.020586\n",
      "2919    2.017669\n",
      "Name: y, Length: 2920, dtype: float64\n"
     ]
    }
   ],
   "source": []
  },
  {
   "cell_type": "code",
   "execution_count": null,
   "metadata": {},
   "outputs": [],
   "source": []
  }
 ],
 "metadata": {
  "kernelspec": {
   "display_name": "Python 3",
   "language": "python",
   "name": "python3"
  },
  "language_info": {
   "codemirror_mode": {
    "name": "ipython",
    "version": 3
   },
   "file_extension": ".py",
   "mimetype": "text/x-python",
   "name": "python",
   "nbconvert_exporter": "python",
   "pygments_lexer": "ipython3",
   "version": "3.7.3"
  }
 },
 "nbformat": 4,
 "nbformat_minor": 2
}
